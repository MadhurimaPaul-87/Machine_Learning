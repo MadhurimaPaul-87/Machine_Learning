{
  "nbformat": 4,
  "nbformat_minor": 0,
  "metadata": {
    "colab": {
      "name": "FirstTFmodel.ipynb",
      "provenance": [],
      "collapsed_sections": [],
      "authorship_tag": "ABX9TyN7r/cMm5XNC++BkrscgztB",
      "include_colab_link": true
    },
    "kernelspec": {
      "name": "python3",
      "display_name": "Python 3"
    },
    "language_info": {
      "name": "python"
    }
  },
  "cells": [
    {
      "cell_type": "markdown",
      "metadata": {
        "id": "view-in-github",
        "colab_type": "text"
      },
      "source": [
        "<a href=\"https://colab.research.google.com/github/MadhurimaPaul-87/Machine_Learning/blob/main/FirstTFmodel.ipynb\" target=\"_parent\"><img src=\"https://colab.research.google.com/assets/colab-badge.svg\" alt=\"Open In Colab\"/></a>"
      ]
    },
    {
      "cell_type": "markdown",
      "metadata": {
        "id": "MsNwtu_KcdHM"
      },
      "source": [
        "**Import dependencies**"
      ]
    },
    {
      "cell_type": "code",
      "metadata": {
        "id": "7RlHa1vF8DOG"
      },
      "source": [
        "import tensorflow as tf\n",
        "\n",
        "import numpy as np\n",
        "import matplotlib.pyplot as plt\n",
        "import seaborn as sns\n",
        "sns.set()\n"
      ],
      "execution_count": 1,
      "outputs": []
    },
    {
      "cell_type": "markdown",
      "metadata": {
        "id": "41Vu6g2khTzR"
      },
      "source": [
        ""
      ]
    },
    {
      "cell_type": "markdown",
      "metadata": {
        "id": "FuKJss9hdV49"
      },
      "source": [
        "**Set up training data**"
      ]
    },
    {
      "cell_type": "code",
      "metadata": {
        "colab": {
          "base_uri": "https://localhost:8080/"
        },
        "id": "pLMz89wkc9cE",
        "outputId": "f4b24a01-f16b-4695-be62-666c4b66e5c5"
      },
      "source": [
        "celsius_q= np.array([-40,-10,0,8,15,22,38],dtype=float)\n",
        "fahrenheit_a= np.array([-40,14,32,46,59,72,100], dtype=float)\n",
        "\n",
        "for i,c in enumerate(celsius_q):\n",
        "  print(f\"{c} degree celsius = {fahrenheit_a[i]} degree fahrenheit\")"
      ],
      "execution_count": 2,
      "outputs": [
        {
          "output_type": "stream",
          "text": [
            "-40.0 degree celsius = -40.0 degree fahrenheit\n",
            "-10.0 degree celsius = 14.0 degree fahrenheit\n",
            "0.0 degree celsius = 32.0 degree fahrenheit\n",
            "8.0 degree celsius = 46.0 degree fahrenheit\n",
            "15.0 degree celsius = 59.0 degree fahrenheit\n",
            "22.0 degree celsius = 72.0 degree fahrenheit\n",
            "38.0 degree celsius = 100.0 degree fahrenheit\n"
          ],
          "name": "stdout"
        }
      ]
    },
    {
      "cell_type": "markdown",
      "metadata": {
        "id": "P2Js6mDcgP9p"
      },
      "source": [
        "**create the model**"
      ]
    },
    {
      "cell_type": "code",
      "metadata": {
        "id": "0MrNkPSBgTva"
      },
      "source": [
        "l0=tf.keras.layers.Dense(units=1, input_shape=[1])"
      ],
      "execution_count": 3,
      "outputs": []
    },
    {
      "cell_type": "markdown",
      "metadata": {
        "id": "gT5uP4AMhoRa"
      },
      "source": [
        "**Assemble layers into the model**"
      ]
    },
    {
      "cell_type": "code",
      "metadata": {
        "id": "-7tyBfdNhtNS"
      },
      "source": [
        "model= tf.keras.Sequential([l0])"
      ],
      "execution_count": 4,
      "outputs": []
    },
    {
      "cell_type": "markdown",
      "metadata": {
        "id": "NoJYM3E8i4QK"
      },
      "source": [
        "**Compile the model, with loss and optimizer functions**"
      ]
    },
    {
      "cell_type": "code",
      "metadata": {
        "id": "D0eEAavtjFZJ"
      },
      "source": [
        "model.compile(loss='mean_squared_error',optimizer=tf.keras.optimizers.Adam(0.1))"
      ],
      "execution_count": 5,
      "outputs": []
    },
    {
      "cell_type": "markdown",
      "metadata": {
        "id": "29fE3YJDmZ87"
      },
      "source": [
        "**Train the model**"
      ]
    },
    {
      "cell_type": "code",
      "metadata": {
        "colab": {
          "base_uri": "https://localhost:8080/"
        },
        "id": "7klZAYqLmeYZ",
        "outputId": "b2af72e4-d5e4-427e-e5ed-9595e4d01301"
      },
      "source": [
        "history= model.fit(celsius_q,fahrenheit_a,epochs=500,verbose=False)\n",
        "print(\"Finished training the model\")"
      ],
      "execution_count": 6,
      "outputs": [
        {
          "output_type": "stream",
          "text": [
            "Finished training the model\n"
          ],
          "name": "stdout"
        }
      ]
    },
    {
      "cell_type": "markdown",
      "metadata": {
        "id": "EkGExQFrnR00"
      },
      "source": [
        "**Display training statistics**"
      ]
    },
    {
      "cell_type": "code",
      "metadata": {
        "colab": {
          "base_uri": "https://localhost:8080/",
          "height": 302
        },
        "id": "6eDeF17DnWdi",
        "outputId": "b226a8d2-8aca-4013-f67d-a15ea81acb61"
      },
      "source": [
        "plt.xlabel(\"Epoch Number\")\n",
        "plt.ylabel(\"Loss Magnitude\")\n",
        "plt.plot(history.history['loss'])"
      ],
      "execution_count": 7,
      "outputs": [
        {
          "output_type": "execute_result",
          "data": {
            "text/plain": [
              "[<matplotlib.lines.Line2D at 0x7f0d22b9cd10>]"
            ]
          },
          "metadata": {
            "tags": []
          },
          "execution_count": 7
        },
        {
          "output_type": "display_data",
          "data": {
            "image/png": "[encoded data removed]",
            "text/plain": [
              "<Figure size 432x288 with 1 Axes>"
            ]
          },
          "metadata": {
            "tags": [],
            "needs_background": "light"
          }
        }
      ]
    },
    {
      "cell_type": "markdown",
      "metadata": {
        "id": "aCgzHsiuoti6"
      },
      "source": [
        "**Use the model to predict values**"
      ]
    },
    {
      "cell_type": "code",
      "metadata": {
        "colab": {
          "base_uri": "https://localhost:8080/"
        },
        "id": "XKW9njnXoiFI",
        "outputId": "24e804ec-67b1-4d09-a568-7be2f07fcfad"
      },
      "source": [
        "print(model.predict([100.0]))"
      ],
      "execution_count": 8,
      "outputs": [
        {
          "output_type": "stream",
          "text": [
            "[[211.33376]]\n"
          ],
          "name": "stdout"
        }
      ]
    },
    {
      "cell_type": "markdown",
      "metadata": {
        "id": "Z3GCttD6pWUJ"
      },
      "source": [
        "**Looking at the layer weights**"
      ]
    },
    {
      "cell_type": "code",
      "metadata": {
        "colab": {
          "base_uri": "https://localhost:8080/"
        },
        "id": "2j7noskopdKw",
        "outputId": "ebc021c0-3345-42ee-8ae2-92aa27f2ad95"
      },
      "source": [
        "print(f\"These are the layer variables: {l0.get_weights()} \")"
      ],
      "execution_count": 9,
      "outputs": [
        {
          "output_type": "stream",
          "text": [
            "These are the layer variables: [array([[1.8211962]], dtype=float32), array([29.214146], dtype=float32)] \n"
          ],
          "name": "stdout"
        }
      ]
    },
    {
      "cell_type": "markdown",
      "metadata": {
        "id": "pxHghZNsqRNU"
      },
      "source": [
        "**A little experiment**"
      ]
    },
    {
      "cell_type": "code",
      "metadata": {
        "colab": {
          "base_uri": "https://localhost:8080/"
        },
        "id": "5f88gIgwqWMD",
        "outputId": "61fd7fb5-3fa9-4e32-c0b0-5de486a555f9"
      },
      "source": [
        "l0= tf.keras.layers.Dense(units=4,input_shape=[1])\n",
        "l1= tf.keras.layers.Dense(units=4)\n",
        "l2=tf.keras.layers.Dense(units=4)\n",
        "model=tf.keras.Sequential([l0,l1,l2])\n",
        "model.compile(loss='mean_squared_error',optimizer=tf.keras.optimizers.Adam(0.1))\n",
        "model.fit(celsius_q,fahrenheit_a,epochs=500,verbose=False)\n",
        "\n",
        "print(model.predict([100.0]))\n",
        "print(f\"Weight of l0 is {l0.get_weights()}\")\n",
        "print(f\"Weight of l1 is {l1.get_weights()}\")\n",
        "print(f\"Weight of l2 is {l2.get_weights()}\")\n"
      ],
      "execution_count": 38,
      "outputs": [
        {
          "output_type": "stream",
          "text": [
            "[[211.74736 211.7473  211.7473  211.74736]]\n",
            "Weight of l0 is [array([[ 0.74026275, -0.2936321 ,  0.11489061,  0.2886351 ]],\n",
            "      dtype=float32), array([ 3.1886203, -3.0328934, -2.41122  , -1.5452844], dtype=float32)]\n",
            "Weight of l1 is [array([[-1.3756942e+00,  3.3889425e-01, -6.4305919e-01, -4.3118364e-01],\n",
            "       [ 1.2776134e+00,  2.4591775e-01,  6.6571194e-01,  4.2600452e-05],\n",
            "       [ 1.0721033e+00,  9.5898852e-02,  6.3863206e-01,  1.3081899e-01],\n",
            "       [ 8.5734850e-01, -9.3575560e-02,  3.5157356e-01,  6.0375160e-01]],\n",
            "      dtype=float32), array([-3.2447293,  2.4537747, -2.973377 ,  1.3886713], dtype=float32)]\n",
            "Weight of l2 is [array([[-1.1735386 , -1.1498778 , -1.3698512 , -1.3612833 ],\n",
            "       [ 1.3981407 ,  0.7688444 , -0.09529644,  0.37411097],\n",
            "       [-0.83250517, -1.0417886 , -1.0533788 , -0.711459  ],\n",
            "       [ 0.33374676,  0.15956803,  0.8538633 ,  0.06697454]],\n",
            "      dtype=float32), array([2.8981204, 2.8381965, 2.5333772, 3.5459409], dtype=float32)]\n"
          ],
          "name": "stdout"
        }
      ]
    }
  ]
}