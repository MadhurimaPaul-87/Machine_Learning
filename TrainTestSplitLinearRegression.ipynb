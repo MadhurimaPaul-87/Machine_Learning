{
  "nbformat": 4,
  "nbformat_minor": 0,
  "metadata": {
    "colab": {
      "name": "TrainTestSplitLinearRegression.ipynb",
      "provenance": [],
      "collapsed_sections": [],
      "authorship_tag": "ABX9TyNQ71SOfxtE3P1R9nmkBB9X",
      "include_colab_link": true
    },
    "kernelspec": {
      "name": "python3",
      "display_name": "Python 3"
    },
    "language_info": {
      "name": "python"
    }
  },
  "cells": [
    {
      "cell_type": "markdown",
      "metadata": {
        "id": "view-in-github",
        "colab_type": "text"
      },
      "source": [
        "<a href=\"https://colab.research.google.com/github/MadhurimaPaul-87/Machine_Learning/blob/main/TrainTestSplitLinearRegression.ipynb\" target=\"_parent\"><img src=\"https://colab.research.google.com/assets/colab-badge.svg\" alt=\"Open In Colab\"/></a>"
      ]
    },
    {
      "cell_type": "code",
      "metadata": {
        "id": "wiM9b98cjZga"
      },
      "source": [
        "import numpy as np\n",
        "from sklearn.model_selection import train_test_split"
      ],
      "execution_count": 2,
      "outputs": []
    },
    {
      "cell_type": "markdown",
      "metadata": {
        "id": "39uPzYFWkJ_-"
      },
      "source": [
        "Generate some data we are going to split"
      ]
    },
    {
      "cell_type": "code",
      "metadata": {
        "colab": {
          "base_uri": "https://localhost:8080/"
        },
        "id": "VRFBupGokOgg",
        "outputId": "2b7383a5-31c2-499d-9e6e-81011d6853c8"
      },
      "source": [
        "a= np.arange(1,101)\n",
        "a"
      ],
      "execution_count": 3,
      "outputs": [
        {
          "output_type": "execute_result",
          "data": {
            "text/plain": [
              "array([  1,   2,   3,   4,   5,   6,   7,   8,   9,  10,  11,  12,  13,\n",
              "        14,  15,  16,  17,  18,  19,  20,  21,  22,  23,  24,  25,  26,\n",
              "        27,  28,  29,  30,  31,  32,  33,  34,  35,  36,  37,  38,  39,\n",
              "        40,  41,  42,  43,  44,  45,  46,  47,  48,  49,  50,  51,  52,\n",
              "        53,  54,  55,  56,  57,  58,  59,  60,  61,  62,  63,  64,  65,\n",
              "        66,  67,  68,  69,  70,  71,  72,  73,  74,  75,  76,  77,  78,\n",
              "        79,  80,  81,  82,  83,  84,  85,  86,  87,  88,  89,  90,  91,\n",
              "        92,  93,  94,  95,  96,  97,  98,  99, 100])"
            ]
          },
          "metadata": {
            "tags": []
          },
          "execution_count": 3
        }
      ]
    },
    {
      "cell_type": "code",
      "metadata": {
        "colab": {
          "base_uri": "https://localhost:8080/"
        },
        "id": "sNp9hu92kbnp",
        "outputId": "1da22b2c-e51c-4e35-b610-cd91e4edb0b2"
      },
      "source": [
        "b= np.arange(501,601)\n",
        "b"
      ],
      "execution_count": 4,
      "outputs": [
        {
          "output_type": "execute_result",
          "data": {
            "text/plain": [
              "array([501, 502, 503, 504, 505, 506, 507, 508, 509, 510, 511, 512, 513,\n",
              "       514, 515, 516, 517, 518, 519, 520, 521, 522, 523, 524, 525, 526,\n",
              "       527, 528, 529, 530, 531, 532, 533, 534, 535, 536, 537, 538, 539,\n",
              "       540, 541, 542, 543, 544, 545, 546, 547, 548, 549, 550, 551, 552,\n",
              "       553, 554, 555, 556, 557, 558, 559, 560, 561, 562, 563, 564, 565,\n",
              "       566, 567, 568, 569, 570, 571, 572, 573, 574, 575, 576, 577, 578,\n",
              "       579, 580, 581, 582, 583, 584, 585, 586, 587, 588, 589, 590, 591,\n",
              "       592, 593, 594, 595, 596, 597, 598, 599, 600])"
            ]
          },
          "metadata": {
            "tags": []
          },
          "execution_count": 4
        }
      ]
    },
    {
      "cell_type": "markdown",
      "metadata": {
        "id": "5oEtQ3iMky1l"
      },
      "source": [
        "Split the data"
      ]
    },
    {
      "cell_type": "code",
      "metadata": {
        "colab": {
          "base_uri": "https://localhost:8080/"
        },
        "id": "UlcKywKrk0pj",
        "outputId": "bd4c2cc9-b5b1-46c3-8865-5ddc1935b125"
      },
      "source": [
        "train_test_split(a)"
      ],
      "execution_count": 5,
      "outputs": [
        {
          "output_type": "execute_result",
          "data": {
            "text/plain": [
              "[array([49, 47, 71, 50, 60, 28,  2, 34, 95, 73, 58, 26, 40,  5, 46, 48, 98,\n",
              "        94, 68, 84, 30, 93,  9,  7, 22,  3, 90, 86, 42, 38, 21, 78, 89, 55,\n",
              "        99, 51,  8, 85, 57, 74, 31, 97, 59, 54, 62, 66, 20, 15, 96, 77, 12,\n",
              "        33, 41, 32, 92, 83, 70, 79, 37, 24, 19, 44, 61, 91, 88,  6, 16, 14,\n",
              "        45, 53,  1, 69, 65, 76, 52]),\n",
              " array([ 56,   4,  72,  17,  25,  64,  36,  75,  81,  10,  67,  63,  13,\n",
              "         80,  23,  27,  82,  43, 100,  11,  18,  39,  87,  35,  29])]"
            ]
          },
          "metadata": {
            "tags": []
          },
          "execution_count": 5
        }
      ]
    },
    {
      "cell_type": "code",
      "metadata": {
        "id": "qRYwk3h-k8PK"
      },
      "source": [
        "a_train,a_test,b_train,b_test=train_test_split(a,b, test_size=0.2,random_state=365)"
      ],
      "execution_count": 15,
      "outputs": []
    },
    {
      "cell_type": "markdown",
      "metadata": {
        "id": "1zF6ba2GlQ9-"
      },
      "source": [
        "Explore the result"
      ]
    },
    {
      "cell_type": "code",
      "metadata": {
        "colab": {
          "base_uri": "https://localhost:8080/"
        },
        "id": "0jFtma7wlTQx",
        "outputId": "56e87a19-6d28-4927-c5e6-f54d7590ac9e"
      },
      "source": [
        "a_train.shape,a_test.shape"
      ],
      "execution_count": 12,
      "outputs": [
        {
          "output_type": "execute_result",
          "data": {
            "text/plain": [
              "((80,), (20,))"
            ]
          },
          "metadata": {
            "tags": []
          },
          "execution_count": 12
        }
      ]
    },
    {
      "cell_type": "code",
      "metadata": {
        "colab": {
          "base_uri": "https://localhost:8080/"
        },
        "id": "Na7wqcp8lbul",
        "outputId": "70e41c17-b6f8-4681-f7dd-1f0bdeca5790"
      },
      "source": [
        "a_train"
      ],
      "execution_count": 13,
      "outputs": [
        {
          "output_type": "execute_result",
          "data": {
            "text/plain": [
              "array([ 18,  25,  31,  61,   7,  16,  85,  83,  49,  72,  51,  79,  17,\n",
              "        57,  64,  94,  15,  86,   8,   3,  11,  50,  10,  88,  12,  74,\n",
              "        20,  58,  39,  87,  13,  23,  28,  47,   9,  35,  80,  54,  69,\n",
              "        66,  32,  59,  90,  41,  43,  67,  53,  27,  33, 100,  70,  62,\n",
              "        48,  40,  98,  78,  97,  24,  56,  93,  34,  36,  96,  65,  76,\n",
              "        45,  37,  99,  77,  60,  84,   1,  22,  82,  95,  21,  42,  26,\n",
              "         6,  75])"
            ]
          },
          "metadata": {
            "tags": []
          },
          "execution_count": 13
        }
      ]
    },
    {
      "cell_type": "code",
      "metadata": {
        "colab": {
          "base_uri": "https://localhost:8080/"
        },
        "id": "NzlT63b_liGJ",
        "outputId": "9241ee58-a0ac-487a-cbd0-39eabaa1cf23"
      },
      "source": [
        "a_test"
      ],
      "execution_count": 14,
      "outputs": [
        {
          "output_type": "execute_result",
          "data": {
            "text/plain": [
              "array([55, 30, 89,  4, 46, 73, 29, 19, 71, 14,  2, 68, 91, 52, 63, 92,  5,\n",
              "       38, 44, 81])"
            ]
          },
          "metadata": {
            "tags": []
          },
          "execution_count": 14
        }
      ]
    },
    {
      "cell_type": "code",
      "metadata": {
        "colab": {
          "base_uri": "https://localhost:8080/"
        },
        "id": "I0UB-x0xljxf",
        "outputId": "2a0231df-1660-4387-a0a6-9cdaba05b00a"
      },
      "source": [
        "b_train.shape,b_test.shape"
      ],
      "execution_count": 16,
      "outputs": [
        {
          "output_type": "execute_result",
          "data": {
            "text/plain": [
              "((80,), (20,))"
            ]
          },
          "metadata": {
            "tags": []
          },
          "execution_count": 16
        }
      ]
    },
    {
      "cell_type": "code",
      "metadata": {
        "colab": {
          "base_uri": "https://localhost:8080/"
        },
        "id": "mXFTwlqSnGGq",
        "outputId": "21977a87-4134-4ab7-d163-41fb1dde77ff"
      },
      "source": [
        "b_train"
      ],
      "execution_count": 17,
      "outputs": [
        {
          "output_type": "execute_result",
          "data": {
            "text/plain": [
              "array([525, 532, 599, 573, 591, 566, 503, 559, 594, 501, 508, 515, 590,\n",
              "       554, 531, 520, 577, 582, 530, 535, 595, 542, 538, 507, 511, 550,\n",
              "       521, 548, 502, 517, 510, 558, 568, 543, 541, 516, 588, 572, 579,\n",
              "       600, 580, 539, 524, 586, 522, 523, 562, 576, 518, 547, 555, 526,\n",
              "       560, 519, 571, 564, 551, 563, 565, 528, 512, 578, 513, 544, 575,\n",
              "       587, 540, 504, 529, 549, 537, 557, 527, 574, 506, 545, 592, 534,\n",
              "       553, 583])"
            ]
          },
          "metadata": {
            "tags": []
          },
          "execution_count": 17
        }
      ]
    },
    {
      "cell_type": "code",
      "metadata": {
        "colab": {
          "base_uri": "https://localhost:8080/"
        },
        "id": "hiOOISIMno_B",
        "outputId": "b34a445a-64d8-4a38-bc8c-e2f6d9ea9953"
      },
      "source": [
        "b_test"
      ],
      "execution_count": 18,
      "outputs": [
        {
          "output_type": "execute_result",
          "data": {
            "text/plain": [
              "array([509, 569, 581, 556, 533, 593, 584, 561, 546, 589, 585, 567, 597,\n",
              "       505, 570, 536, 598, 596, 514, 552])"
            ]
          },
          "metadata": {
            "tags": []
          },
          "execution_count": 18
        }
      ]
    },
    {
      "cell_type": "code",
      "metadata": {
        "id": "7Vn2MPMwnrVf"
      },
      "source": [
        ""
      ],
      "execution_count": null,
      "outputs": []
    }
  ]
}