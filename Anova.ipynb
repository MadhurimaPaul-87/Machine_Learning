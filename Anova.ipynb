{
  "nbformat": 4,
  "nbformat_minor": 0,
  "metadata": {
    "colab": {
      "name": "Anova.ipynb",
      "provenance": [],
      "collapsed_sections": [],
      "authorship_tag": "ABX9TyMYYUCicx1cbBke3wQzUv7s",
      "include_colab_link": true
    },
    "kernelspec": {
      "name": "python3",
      "display_name": "Python 3"
    },
    "language_info": {
      "name": "python"
    }
  },
  "cells": [
    {
      "cell_type": "markdown",
      "metadata": {
        "id": "view-in-github",
        "colab_type": "text"
      },
      "source": [
        "<a href=\"https://colab.research.google.com/github/MadhurimaPaul-87/Machine_Learning/blob/main/Anova.ipynb\" target=\"_parent\"><img src=\"https://colab.research.google.com/assets/colab-badge.svg\" alt=\"Open In Colab\"/></a>"
      ]
    },
    {
      "cell_type": "code",
      "metadata": {
        "id": "-QD1aL-zrYEW"
      },
      "source": [
        "import pandas as pd\n",
        "df = pd.read_csv(\"/content/Anova.csv\", header = None)"
      ],
      "execution_count": 39,
      "outputs": []
    },
    {
      "cell_type": "code",
      "metadata": {
        "colab": {
          "base_uri": "https://localhost:8080/",
          "height": 356
        },
        "id": "6am6cTFFsaVv",
        "outputId": "12ef018c-a246-444f-f237-e2c25da76341"
      },
      "source": [
        "df"
      ],
      "execution_count": 40,
      "outputs": [
        {
          "output_type": "execute_result",
          "data": {
            "text/html": [
              "<div>\n",
              "<style scoped>\n",
              "    .dataframe tbody tr th:only-of-type {\n",
              "        vertical-align: middle;\n",
              "    }\n",
              "\n",
              "    .dataframe tbody tr th {\n",
              "        vertical-align: top;\n",
              "    }\n",
              "\n",
              "    .dataframe thead th {\n",
              "        text-align: right;\n",
              "    }\n",
              "</style>\n",
              "<table border=\"1\" class=\"dataframe\">\n",
              "  <thead>\n",
              "    <tr style=\"text-align: right;\">\n",
              "      <th></th>\n",
              "      <th>0</th>\n",
              "      <th>1</th>\n",
              "      <th>2</th>\n",
              "      <th>3</th>\n",
              "    </tr>\n",
              "  </thead>\n",
              "  <tbody>\n",
              "    <tr>\n",
              "      <th>0</th>\n",
              "      <td>60</td>\n",
              "      <td>50</td>\n",
              "      <td>48</td>\n",
              "      <td>47</td>\n",
              "    </tr>\n",
              "    <tr>\n",
              "      <th>1</th>\n",
              "      <td>67</td>\n",
              "      <td>52</td>\n",
              "      <td>49</td>\n",
              "      <td>67</td>\n",
              "    </tr>\n",
              "    <tr>\n",
              "      <th>2</th>\n",
              "      <td>42</td>\n",
              "      <td>43</td>\n",
              "      <td>50</td>\n",
              "      <td>54</td>\n",
              "    </tr>\n",
              "    <tr>\n",
              "      <th>3</th>\n",
              "      <td>67</td>\n",
              "      <td>67</td>\n",
              "      <td>55</td>\n",
              "      <td>67</td>\n",
              "    </tr>\n",
              "    <tr>\n",
              "      <th>4</th>\n",
              "      <td>56</td>\n",
              "      <td>67</td>\n",
              "      <td>56</td>\n",
              "      <td>68</td>\n",
              "    </tr>\n",
              "    <tr>\n",
              "      <th>5</th>\n",
              "      <td>62</td>\n",
              "      <td>59</td>\n",
              "      <td>61</td>\n",
              "      <td>65</td>\n",
              "    </tr>\n",
              "    <tr>\n",
              "      <th>6</th>\n",
              "      <td>64</td>\n",
              "      <td>67</td>\n",
              "      <td>61</td>\n",
              "      <td>65</td>\n",
              "    </tr>\n",
              "    <tr>\n",
              "      <th>7</th>\n",
              "      <td>59</td>\n",
              "      <td>64</td>\n",
              "      <td>60</td>\n",
              "      <td>56</td>\n",
              "    </tr>\n",
              "    <tr>\n",
              "      <th>8</th>\n",
              "      <td>72</td>\n",
              "      <td>63</td>\n",
              "      <td>59</td>\n",
              "      <td>60</td>\n",
              "    </tr>\n",
              "    <tr>\n",
              "      <th>9</th>\n",
              "      <td>71</td>\n",
              "      <td>65</td>\n",
              "      <td>64</td>\n",
              "      <td>65</td>\n",
              "    </tr>\n",
              "  </tbody>\n",
              "</table>\n",
              "</div>"
            ],
            "text/plain": [
              "    0   1   2   3\n",
              "0  60  50  48  47\n",
              "1  67  52  49  67\n",
              "2  42  43  50  54\n",
              "3  67  67  55  67\n",
              "4  56  67  56  68\n",
              "5  62  59  61  65\n",
              "6  64  67  61  65\n",
              "7  59  64  60  56\n",
              "8  72  63  59  60\n",
              "9  71  65  64  65"
            ]
          },
          "metadata": {
            "tags": []
          },
          "execution_count": 40
        }
      ]
    },
    {
      "cell_type": "code",
      "metadata": {
        "colab": {
          "base_uri": "https://localhost:8080/"
        },
        "id": "ieN6yIPCvCIg",
        "outputId": "52be95c2-826b-47ff-b6aa-09679159d3da"
      },
      "source": [
        "len(df)"
      ],
      "execution_count": 41,
      "outputs": [
        {
          "output_type": "execute_result",
          "data": {
            "text/plain": [
              "10"
            ]
          },
          "metadata": {
            "tags": []
          },
          "execution_count": 41
        }
      ]
    },
    {
      "cell_type": "code",
      "metadata": {
        "colab": {
          "base_uri": "https://localhost:8080/"
        },
        "id": "fpZxNljZvbVJ",
        "outputId": "5caf664c-1338-4cee-e691-802ad250176d"
      },
      "source": [
        "df.columns"
      ],
      "execution_count": 42,
      "outputs": [
        {
          "output_type": "execute_result",
          "data": {
            "text/plain": [
              "Int64Index([0, 1, 2, 3], dtype='int64')"
            ]
          },
          "metadata": {
            "tags": []
          },
          "execution_count": 42
        }
      ]
    },
    {
      "cell_type": "code",
      "metadata": {
        "colab": {
          "base_uri": "https://localhost:8080/"
        },
        "id": "pYsbHlAl7ICt",
        "outputId": "b36c5a5b-49ac-49df-eeac-74f4d04bcfa1"
      },
      "source": [
        "len(df.columns)"
      ],
      "execution_count": 43,
      "outputs": [
        {
          "output_type": "execute_result",
          "data": {
            "text/plain": [
              "4"
            ]
          },
          "metadata": {
            "tags": []
          },
          "execution_count": 43
        }
      ]
    },
    {
      "cell_type": "code",
      "metadata": {
        "colab": {
          "base_uri": "https://localhost:8080/"
        },
        "id": "QdL6odJVx7bz",
        "outputId": "445ee1bc-b8dd-4176-d743-5a6a2922f152"
      },
      "source": [
        "len(df)*len(df.columns)"
      ],
      "execution_count": 44,
      "outputs": [
        {
          "output_type": "execute_result",
          "data": {
            "text/plain": [
              "40"
            ]
          },
          "metadata": {
            "tags": []
          },
          "execution_count": 44
        }
      ]
    },
    {
      "cell_type": "code",
      "metadata": {
        "id": "_9u-MYMGsbHL"
      },
      "source": [
        "means = df.mean()"
      ],
      "execution_count": 45,
      "outputs": []
    },
    {
      "cell_type": "code",
      "metadata": {
        "colab": {
          "base_uri": "https://localhost:8080/"
        },
        "id": "lQtpCxkrsss4",
        "outputId": "aed342ff-5f23-4deb-924a-a884bd6e1853"
      },
      "source": [
        "means"
      ],
      "execution_count": 46,
      "outputs": [
        {
          "output_type": "execute_result",
          "data": {
            "text/plain": [
              "0    62.0\n",
              "1    59.7\n",
              "2    56.3\n",
              "3    61.4\n",
              "dtype: float64"
            ]
          },
          "metadata": {
            "tags": []
          },
          "execution_count": 46
        }
      ]
    },
    {
      "cell_type": "code",
      "metadata": {
        "colab": {
          "base_uri": "https://localhost:8080/"
        },
        "id": "95MklEYruKgI",
        "outputId": "b0658437-f792-4d02-b461-4e07d41ba785"
      },
      "source": [
        "len(means)"
      ],
      "execution_count": 47,
      "outputs": [
        {
          "output_type": "execute_result",
          "data": {
            "text/plain": [
              "4"
            ]
          },
          "metadata": {
            "tags": []
          },
          "execution_count": 47
        }
      ]
    },
    {
      "cell_type": "markdown",
      "metadata": {
        "id": "EsyhVZA-16yl"
      },
      "source": [
        "Finding meanOfmeans (Approach 1)"
      ]
    },
    {
      "cell_type": "code",
      "metadata": {
        "colab": {
          "base_uri": "https://localhost:8080/"
        },
        "id": "Q7EmKGAKs81h",
        "outputId": "9cdb27df-8337-4e1d-a784-e6105d0b9eb7"
      },
      "source": [
        "n = len(df)*len(df.columns)\n",
        "s=0\n",
        "\n",
        "for i in range(len(df)):\n",
        "  for j in range(len(df.columns)):\n",
        "    s= s+ df.loc[i,j]\n",
        "\n",
        "meanOfMeans = s/n\n",
        "print(meanOfMeans)"
      ],
      "execution_count": 48,
      "outputs": [
        {
          "output_type": "stream",
          "text": [
            "59.85\n"
          ],
          "name": "stdout"
        }
      ]
    },
    {
      "cell_type": "markdown",
      "metadata": {
        "id": "sJu56NPn2Ery"
      },
      "source": [
        "Findinng meansOfMeans (Approach 2)"
      ]
    },
    {
      "cell_type": "markdown",
      "metadata": {
        "id": "-FnrlBiHzwxL"
      },
      "source": [
        "Flattening and making it one dimensional array"
      ]
    },
    {
      "cell_type": "code",
      "metadata": {
        "colab": {
          "base_uri": "https://localhost:8080/"
        },
        "id": "GjJ165aVz3wK",
        "outputId": "ef158f5b-ef26-448c-f9ee-bda5e8655cde"
      },
      "source": [
        "import numpy as np\n",
        "x=np.array(df)\n",
        "x.shape"
      ],
      "execution_count": 49,
      "outputs": [
        {
          "output_type": "execute_result",
          "data": {
            "text/plain": [
              "(10, 4)"
            ]
          },
          "metadata": {
            "tags": []
          },
          "execution_count": 49
        }
      ]
    },
    {
      "cell_type": "code",
      "metadata": {
        "colab": {
          "base_uri": "https://localhost:8080/"
        },
        "id": "CjUy2COQ0XL5",
        "outputId": "02805613-91be-4526-d07e-30bbeade6669"
      },
      "source": [
        "x=x.reshape(40,1)\n",
        "x.shape"
      ],
      "execution_count": 50,
      "outputs": [
        {
          "output_type": "execute_result",
          "data": {
            "text/plain": [
              "(40, 1)"
            ]
          },
          "metadata": {
            "tags": []
          },
          "execution_count": 50
        }
      ]
    },
    {
      "cell_type": "code",
      "metadata": {
        "colab": {
          "base_uri": "https://localhost:8080/"
        },
        "id": "iULNh9Sq0x9B",
        "outputId": "f815add7-b7c1-4e0e-fb3d-d8d6e3b4764e"
      },
      "source": [
        "meanOfMeans_2 = x.mean()\n",
        "print(meanOfMeans_2)"
      ],
      "execution_count": 51,
      "outputs": [
        {
          "output_type": "stream",
          "text": [
            "59.85\n"
          ],
          "name": "stdout"
        }
      ]
    },
    {
      "cell_type": "markdown",
      "metadata": {
        "id": "z6GfU0-m-CL4"
      },
      "source": [
        "Finding SSB"
      ]
    },
    {
      "cell_type": "code",
      "metadata": {
        "colab": {
          "base_uri": "https://localhost:8080/"
        },
        "id": "Vkhkl4_d4uju",
        "outputId": "79e3ad9a-1526-4e77-af5b-7b30768c3aba"
      },
      "source": [
        "SSB = 0\n",
        "for i in range(len(df.columns)):\n",
        "  SSB = SSB + (means[i]-meanOfMeans)**2\n",
        "  print(SSB)"
      ],
      "execution_count": 52,
      "outputs": [
        {
          "output_type": "stream",
          "text": [
            "4.622499999999994\n",
            "4.644999999999994\n",
            "17.247500000000024\n",
            "19.650000000000013\n"
          ],
          "name": "stdout"
        }
      ]
    },
    {
      "cell_type": "code",
      "metadata": {
        "id": "dyLBdnXu5VNQ"
      },
      "source": [
        "SSB = SSB * len(df)"
      ],
      "execution_count": 53,
      "outputs": []
    },
    {
      "cell_type": "code",
      "metadata": {
        "colab": {
          "base_uri": "https://localhost:8080/"
        },
        "id": "RMs1fbKK5b1G",
        "outputId": "bd6c1bac-9eb6-4184-b2a4-0917f5239587"
      },
      "source": [
        "SSB"
      ],
      "execution_count": 54,
      "outputs": [
        {
          "output_type": "execute_result",
          "data": {
            "text/plain": [
              "196.5000000000001"
            ]
          },
          "metadata": {
            "tags": []
          },
          "execution_count": 54
        }
      ]
    },
    {
      "cell_type": "markdown",
      "metadata": {
        "id": "PziAverA-GFM"
      },
      "source": [
        "Finding SSW"
      ]
    },
    {
      "cell_type": "code",
      "metadata": {
        "colab": {
          "base_uri": "https://localhost:8080/"
        },
        "id": "U5WWIc_x6khW",
        "outputId": "f5783e86-53cf-4fbf-9556-f648899334f6"
      },
      "source": [
        "SSW = 0\n",
        "for i in range(len(df.columns)):\n",
        "  for j in range(len(df)):\n",
        "    SSW = SSW +(df.loc[j,i]-means[i])**2\n",
        "SSW"
      ],
      "execution_count": 55,
      "outputs": [
        {
          "output_type": "execute_result",
          "data": {
            "text/plain": [
              "2060.6"
            ]
          },
          "metadata": {
            "tags": []
          },
          "execution_count": 55
        }
      ]
    },
    {
      "cell_type": "markdown",
      "metadata": {
        "id": "L0nf2FFy-N56"
      },
      "source": [
        "Finding F ratio"
      ]
    },
    {
      "cell_type": "code",
      "metadata": {
        "colab": {
          "base_uri": "https://localhost:8080/"
        },
        "id": "isdXMKFJ9Nyb",
        "outputId": "e7ac2133-efb1-4e91-a652-2f29e2434573"
      },
      "source": [
        "k = len(df.columns)\n",
        "m = len(df)              \n",
        "MSB = SSB/(k-1)\n",
        "MSB"
      ],
      "execution_count": 59,
      "outputs": [
        {
          "output_type": "execute_result",
          "data": {
            "text/plain": [
              "65.50000000000004"
            ]
          },
          "metadata": {
            "tags": []
          },
          "execution_count": 59
        }
      ]
    },
    {
      "cell_type": "code",
      "metadata": {
        "colab": {
          "base_uri": "https://localhost:8080/"
        },
        "id": "I0p3Tdrl_7q1",
        "outputId": "157194c1-8a8d-40d8-c377-33556aa94b9c"
      },
      "source": [
        "MSW = SSW/(m*k-k)\n",
        "MSW"
      ],
      "execution_count": 60,
      "outputs": [
        {
          "output_type": "execute_result",
          "data": {
            "text/plain": [
              "57.23888888888889"
            ]
          },
          "metadata": {
            "tags": []
          },
          "execution_count": 60
        }
      ]
    },
    {
      "cell_type": "code",
      "metadata": {
        "colab": {
          "base_uri": "https://localhost:8080/"
        },
        "id": "z6Y88LpfCQNg",
        "outputId": "453a9ad2-ac30-4060-8b82-16c008a78151"
      },
      "source": [
        "F = MSB/MSW\n",
        "F"
      ],
      "execution_count": 61,
      "outputs": [
        {
          "output_type": "execute_result",
          "data": {
            "text/plain": [
              "1.144326895079104"
            ]
          },
          "metadata": {
            "tags": []
          },
          "execution_count": 61
        }
      ]
    },
    {
      "cell_type": "markdown",
      "metadata": {
        "id": "WymNE2bqENEs"
      },
      "source": [
        "Normality test"
      ]
    },
    {
      "cell_type": "code",
      "metadata": {
        "colab": {
          "base_uri": "https://localhost:8080/",
          "height": 281
        },
        "id": "UMPbjS9uEMiP",
        "outputId": "c15bb6ce-f1bf-4243-b0ae-cacb05da56f4"
      },
      "source": [
        "import matplotlib.pyplot as plt\n",
        "df[0].hist()"
      ],
      "execution_count": 63,
      "outputs": [
        {
          "output_type": "execute_result",
          "data": {
            "text/plain": [
              "<matplotlib.axes._subplots.AxesSubplot at 0x7fb4e8914f50>"
            ]
          },
          "metadata": {
            "tags": []
          },
          "execution_count": 63
        },
        {
          "output_type": "display_data",
          "data": {
            "image/png": "[encoded data removed]",
            "text/plain": [
              "<Figure size 432x288 with 1 Axes>"
            ]
          },
          "metadata": {
            "tags": [],
            "needs_background": "light"
          }
        }
      ]
    },
    {
      "cell_type": "markdown",
      "metadata": {
        "id": "hdekNBQME9lV"
      },
      "source": [
        "## **Modular Approach**"
      ]
    },
    {
      "cell_type": "code",
      "metadata": {
        "id": "z7doq0BnFD1l"
      },
      "source": [
        "def get_n_k(df):\n",
        "  n= len(df)\n",
        "  k= len(df.columns)\n",
        "  return n, k"
      ],
      "execution_count": 64,
      "outputs": []
    },
    {
      "cell_type": "code",
      "metadata": {
        "id": "fzYBgO0zGimz"
      },
      "source": [
        "def getTreatmentMeans(df):\n",
        "  return df.mean()"
      ],
      "execution_count": 65,
      "outputs": []
    },
    {
      "cell_type": "code",
      "metadata": {
        "id": "Au8B0QetG7-n"
      },
      "source": [
        "def getTotalMean(df):\n",
        "  x = np.array(df)\n",
        "  x= x.reshape(40,1)\n",
        "  return x.mean()"
      ],
      "execution_count": 66,
      "outputs": []
    },
    {
      "cell_type": "code",
      "metadata": {
        "id": "uJdl8fbiHxTX"
      },
      "source": [
        "def getSSB(df, TreatmentMeans):\n",
        "  if len(df.columns)!= len(TreatmentMeans):\n",
        "    return \"error!!!\"\n",
        "  SSB = 0\n",
        "  for i in range(len(TreatmentMeans)):\n",
        "    SSB = SSB + (means[i]-meanOfMeans)**2\n",
        "  return SSB*len(df)"
      ],
      "execution_count": 71,
      "outputs": []
    },
    {
      "cell_type": "code",
      "metadata": {
        "id": "fdaLGxqfJeSq"
      },
      "source": [
        "def getSSW(df,TotalMean):\n",
        "  SSW = 0\n",
        "  for i in range(len(df.columns)):\n",
        "    for j in range(len(df)):\n",
        "      SSW = SSW +(df.loc[j,i]-means[i])**2\n",
        "  return SSW"
      ],
      "execution_count": 68,
      "outputs": []
    },
    {
      "cell_type": "code",
      "metadata": {
        "id": "qHTckoREKU2p"
      },
      "source": [
        "def ANOVA(df):\n",
        "  n,k = get_n_k(df)\n",
        "  TreatmentMeans = getTreatmentMeans(df)\n",
        "  TotalMean = getTotalMean(df)\n",
        "  SSB = getSSB(df, TreatmentMeans)\n",
        "  SSW = getSSW(df,TotalMean)\n",
        "  MSB = SSB/(k-1)\n",
        "  MSW = SSW/(n*k-k)\n",
        "  return MSB/MSW"
      ],
      "execution_count": 69,
      "outputs": []
    },
    {
      "cell_type": "code",
      "metadata": {
        "colab": {
          "base_uri": "https://localhost:8080/"
        },
        "id": "aQIsmtb-MEB3",
        "outputId": "ec79e0fc-5675-444d-f335-c61074b35bc2"
      },
      "source": [
        "print(ANOVA(df))"
      ],
      "execution_count": 72,
      "outputs": [
        {
          "output_type": "stream",
          "text": [
            "1.144326895079104\n"
          ],
          "name": "stdout"
        }
      ]
    },
    {
      "cell_type": "markdown",
      "metadata": {
        "id": "fh0eBeGEM_Wh"
      },
      "source": [
        "# **ANOVA using scipy**"
      ]
    },
    {
      "cell_type": "code",
      "metadata": {
        "colab": {
          "base_uri": "https://localhost:8080/"
        },
        "id": "tVaaerPENHKm",
        "outputId": "51c2cded-722d-4122-d333-16c7cf375466"
      },
      "source": [
        "import scipy.stats as stats\n",
        "stats.f_oneway(df[0],df[1],df[2],df[3]) "
      ],
      "execution_count": 73,
      "outputs": [
        {
          "output_type": "execute_result",
          "data": {
            "text/plain": [
              "F_onewayResult(statistic=1.1443268950791026, pvalue=0.3443595629359094)"
            ]
          },
          "metadata": {
            "tags": []
          },
          "execution_count": 73
        }
      ]
    }
  ]
}